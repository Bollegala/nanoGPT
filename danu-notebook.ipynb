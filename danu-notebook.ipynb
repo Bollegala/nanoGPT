{
 "cells": [
  {
   "cell_type": "code",
   "execution_count": 2,
   "metadata": {},
   "outputs": [],
   "source": [
    "import torch\n",
    "import torch.nn as nn \n",
    "from torch.nn import functional as F\n",
    "import numpy as np\n",
    "import inspect"
   ]
  },
  {
   "cell_type": "code",
   "execution_count": 10,
   "metadata": {},
   "outputs": [
    {
     "name": "stdout",
     "output_type": "stream",
     "text": [
      "a: int\n"
     ]
    }
   ],
   "source": [
    "def add(a: int, b: int):\n",
    "    \"\"\"\n",
    "    add two numbers\n",
    "    \"\"\"\n",
    "    # compute the addition\n",
    "    x = a + b\n",
    "    return x \n",
    "\n",
    "s = inspect.signature(add).parameters['a']\n",
    "print(s)"
   ]
  },
  {
   "cell_type": "code",
   "execution_count": 3,
   "metadata": {},
   "outputs": [
    {
     "name": "stdout",
     "output_type": "stream",
     "text": [
      "\n",
      " !$&',-.3:;?ABCDEFGHIJKLMNOPQRSTUVWXYZabcdefghijklmnopqrstuvwxyz\n"
     ]
    },
    {
     "data": {
      "text/plain": [
       "65"
      ]
     },
     "execution_count": 3,
     "metadata": {},
     "output_type": "execute_result"
    }
   ],
   "source": [
    "data = open(\"data/shakespeare_char/input.txt\").read()\n",
    "vocab = sorted(list(set(data)))\n",
    "print(''.join(vocab))\n",
    "len(vocab)"
   ]
  },
  {
   "cell_type": "code",
   "execution_count": 4,
   "metadata": {},
   "outputs": [
    {
     "name": "stdout",
     "output_type": "stream",
     "text": [
      "50257\n",
      "['Dan', 'ush', 'ka', ' Bol', 'leg', 'ala']\n"
     ]
    }
   ],
   "source": [
    "import tiktoken\n",
    "#enc = tiktoken.encoding_for_model('gpt-4o')\n",
    "enc = tiktoken.get_encoding('gpt2')\n",
    "print(enc.n_vocab)\n",
    "codes = enc.encode(\"Danushka Bollegala\")\n",
    "dec = [enc.decode([cd]) for cd in codes]\n",
    "print(dec)"
   ]
  },
  {
   "cell_type": "code",
   "execution_count": 5,
   "metadata": {},
   "outputs": [
    {
     "name": "stdout",
     "output_type": "stream",
     "text": [
      "[16, 39, 52, 59, 57, 46, 49, 39, 1, 14, 53, 50, 50, 43, 45, 39, 50, 39]\n",
      "Danushka Bollegala\n"
     ]
    }
   ],
   "source": [
    "stoi = {ch:i for (i, ch) in enumerate(vocab)}\n",
    "itoch = {i:ch for (i, ch) in enumerate(vocab)}\n",
    "encode = lambda s: [stoi[ch] for ch in s] \n",
    "decode = lambda l: ''.join([itoch[i] for i in l])\n",
    "vocab_size = len(vocab)\n",
    "print(encode(\"Danushka Bollegala\"))\n",
    "print(decode(encode(\"Danushka Bollegala\")))"
   ]
  },
  {
   "cell_type": "code",
   "execution_count": 6,
   "metadata": {},
   "outputs": [],
   "source": [
    "n = int(0.9 * len(data))\n",
    "train_data = torch.tensor(encode(data[:n]))\n",
    "val_data = torch.tensor(encode(data[n:]))\n",
    "block_size = 8"
   ]
  },
  {
   "cell_type": "code",
   "execution_count": 7,
   "metadata": {},
   "outputs": [
    {
     "name": "stdout",
     "output_type": "stream",
     "text": [
      "inputs\n",
      "torch.Size([4, 8])\n",
      "tensor([[24, 43, 58,  5, 57,  1, 46, 43],\n",
      "        [44, 53, 56,  1, 58, 46, 39, 58],\n",
      "        [52, 58,  1, 58, 46, 39, 58,  1],\n",
      "        [25, 17, 27, 10,  0, 21,  1, 54]])\n",
      "targets\n",
      "torch.Size([4, 8])\n",
      "tensor([[43, 58,  5, 57,  1, 46, 43, 39],\n",
      "        [53, 56,  1, 58, 46, 39, 58,  1],\n",
      "        [58,  1, 58, 46, 39, 58,  1, 46],\n",
      "        [17, 27, 10,  0, 21,  1, 54, 39]])\n",
      "----\n",
      "Context = [24], Target = 43\n",
      "Context = [24, 43], Target = 58\n",
      "Context = [24, 43, 58], Target = 5\n",
      "Context = [24, 43, 58, 5], Target = 57\n",
      "Context = [24, 43, 58, 5, 57], Target = 1\n",
      "Context = [24, 43, 58, 5, 57, 1], Target = 46\n",
      "Context = [24, 43, 58, 5, 57, 1, 46], Target = 43\n",
      "Context = [24, 43, 58, 5, 57, 1, 46, 43], Target = 39\n",
      "Context = [44], Target = 53\n",
      "Context = [44, 53], Target = 56\n",
      "Context = [44, 53, 56], Target = 1\n",
      "Context = [44, 53, 56, 1], Target = 58\n",
      "Context = [44, 53, 56, 1, 58], Target = 46\n",
      "Context = [44, 53, 56, 1, 58, 46], Target = 39\n",
      "Context = [44, 53, 56, 1, 58, 46, 39], Target = 58\n",
      "Context = [44, 53, 56, 1, 58, 46, 39, 58], Target = 1\n",
      "Context = [52], Target = 58\n",
      "Context = [52, 58], Target = 1\n",
      "Context = [52, 58, 1], Target = 58\n",
      "Context = [52, 58, 1, 58], Target = 46\n",
      "Context = [52, 58, 1, 58, 46], Target = 39\n",
      "Context = [52, 58, 1, 58, 46, 39], Target = 58\n",
      "Context = [52, 58, 1, 58, 46, 39, 58], Target = 1\n",
      "Context = [52, 58, 1, 58, 46, 39, 58, 1], Target = 46\n",
      "Context = [25], Target = 17\n",
      "Context = [25, 17], Target = 27\n",
      "Context = [25, 17, 27], Target = 10\n",
      "Context = [25, 17, 27, 10], Target = 0\n",
      "Context = [25, 17, 27, 10, 0], Target = 21\n",
      "Context = [25, 17, 27, 10, 0, 21], Target = 1\n",
      "Context = [25, 17, 27, 10, 0, 21, 1], Target = 54\n",
      "Context = [25, 17, 27, 10, 0, 21, 1, 54], Target = 39\n"
     ]
    }
   ],
   "source": [
    "torch.manual_seed(1337) # generates the same random sequence\n",
    "batch_size = 4\n",
    "\n",
    "def get_batch(split):\n",
    "    data = train_data if split == 'train' else val_data\n",
    "    ix = torch.randint(len(data) - block_size, (batch_size, ))\n",
    "    x = torch.stack([data[i:i+block_size] for i in ix])\n",
    "    y = torch.stack([data[i+1:i+block_size+1] for i in ix])\n",
    "    return x, y\n",
    "\n",
    "xb, yb = get_batch('train')\n",
    "print('inputs')\n",
    "print(xb.shape)\n",
    "print(xb)\n",
    "\n",
    "print('targets')\n",
    "print(yb.shape)\n",
    "print(yb)\n",
    "\n",
    "print('----')\n",
    "\n",
    "for b in range(batch_size): # batch dimension\n",
    "    for t in range(block_size): # time dimension\n",
    "        context = xb[b, :t+1] # in the b-th batch, we take from the start to length t\n",
    "        target = yb[b, t] # t-th token in the b-th batch\n",
    "        print(f\"Context = {context.tolist()}, Target = {target}\")\n"
   ]
  },
  {
   "cell_type": "code",
   "execution_count": 8,
   "metadata": {},
   "outputs": [
    {
     "name": "stdout",
     "output_type": "stream",
     "text": [
      "torch.Size([32, 65])\n",
      "5.036386013031006\n",
      "\n",
      "l-QYjt'CL?jLDuQcLzy'RIo;'KdhpV\n",
      "vLixa,nswYZwLEPS'ptIZqOZJ$CA$zy-QTkeMk x.gQSFCLg!iW3fO!3DGXAqTsq3pdgq\n"
     ]
    }
   ],
   "source": [
    "class BigramLanguageModel(nn.Module):\n",
    "    \n",
    "    def __init__(self, vocab_size):\n",
    "        super().__init__()\n",
    "        # nn.Embedding provides one hot encoding. But here we use it as a probability table (current_word --> next_word) for the bigram LM.\n",
    "        self.token_embedding_table = nn.Embedding(vocab_size, vocab_size)\n",
    "        \n",
    "    def forward(self, idx, targets=None):\n",
    "        logits = self.token_embedding_table(idx) # logis for the next word predictions. (B, T, C)\n",
    "        \n",
    "        if targets is None:\n",
    "            loss = None\n",
    "        else:\n",
    "            B, T, C = logits.shape\n",
    "            logits = logits.view(B*T, C)\n",
    "            targets = targets.view(B*T)\n",
    "            loss = F.cross_entropy(logits, targets)\n",
    "        return logits, loss\n",
    "    \n",
    "    def generate(self, idx, max_new_tokens):\n",
    "        # idx is a (B, T) array of indices in the current context. (B: blocks, T:time positions in each block)\n",
    "        for _ in range(max_new_tokens): \n",
    "            logits, _ = self(idx)\n",
    "            # We are taking the logits for the last time step\n",
    "            logits = logits[:,-1,:] # becomes (B, C)\n",
    "            probs = F.softmax(logits, dim=1) # Converting the values in the C dimension (1st dim) returning (B, C)\n",
    "            idx_next = torch.multinomial(probs, num_samples=1) # (B, 1)\n",
    "            idx = torch.cat((idx, idx_next), dim=1) # (B, T+1)\n",
    "        return idx\n",
    "        \n",
    "    \n",
    "model = BigramLanguageModel(vocab_size)\n",
    "logits, loss = model(xb, yb)    \n",
    "print(logits.shape) \n",
    "print(loss.item())\n",
    "\n",
    "idx = torch.zeros((1,1), dtype=torch.long)\n",
    "print(decode(model.generate(idx, max_new_tokens=100)[0].tolist()))"
   ]
  },
  {
   "cell_type": "code",
   "execution_count": 9,
   "metadata": {},
   "outputs": [
    {
     "name": "stdout",
     "output_type": "stream",
     "text": [
      "2.395066022872925\n",
      "\n",
      "Mit,\n",
      "\n",
      "The, w ck he, ron l d byik hinofiburkighe agl in'd?\n",
      "PUSCly l llo hbre. on ses fa fou ind n aig\n"
     ]
    }
   ],
   "source": [
    "# create a PyTorch optimiser\n",
    "batch_size = 32\n",
    "optimizer = torch.optim.AdamW(model.parameters(), lr=1e-3)\n",
    "for steps in range(1000000):\n",
    "    # sample a batch of data\n",
    "    xb, yb = get_batch('train')\n",
    "    # evaluate the loss\n",
    "    logits, loss = model(xb, yb)\n",
    "    optimizer.zero_grad(set_to_none=True)\n",
    "    loss.backward()\n",
    "    optimizer.step()\n",
    "print(loss.item())\n",
    "\n",
    "print(decode(model.generate(torch.zeros((1,1), dtype=torch.long), max_new_tokens=100)[0].tolist()))"
   ]
  },
  {
   "cell_type": "code",
   "execution_count": 35,
   "metadata": {},
   "outputs": [
    {
     "name": "stdout",
     "output_type": "stream",
     "text": [
      "x tensor([[[0.5733, 0.9822, 0.6841, 0.7220],\n",
      "         [0.4054, 0.7099, 0.1884, 0.5690],\n",
      "         [0.4043, 0.9330, 0.8028, 0.7972]],\n",
      "\n",
      "        [[0.3050, 0.3823, 0.2141, 0.7705],\n",
      "         [0.8820, 0.1858, 0.4542, 0.1196],\n",
      "         [0.0182, 0.7626, 0.8931, 0.6682]]])\n",
      "y tensor([0.5733, 0.9822, 0.6841, 0.7220, 0.4054, 0.7099, 0.1884, 0.5690, 0.4043,\n",
      "        0.9330, 0.8028, 0.7972, 0.3050, 0.3823, 0.2141, 0.7705, 0.8820, 0.1858,\n",
      "        0.4542, 0.1196, 0.0182, 0.7626, 0.8931, 0.6682])\n"
     ]
    },
    {
     "ename": "IndexError",
     "evalue": "invalid index of a 0-dim tensor. Use `tensor.item()` in Python or `tensor.item<T>()` in C++ to convert a 0-dim tensor to a number",
     "output_type": "error",
     "traceback": [
      "\u001b[0;31m---------------------------------------------------------------------------\u001b[0m",
      "\u001b[0;31mIndexError\u001b[0m                                Traceback (most recent call last)",
      "Cell \u001b[0;32mIn[35], line 6\u001b[0m\n\u001b[1;32m      4\u001b[0m y \u001b[38;5;241m=\u001b[39m x\u001b[38;5;241m.\u001b[39mview(\u001b[38;5;241m-\u001b[39m\u001b[38;5;241m1\u001b[39m)\n\u001b[1;32m      5\u001b[0m \u001b[38;5;28mprint\u001b[39m(\u001b[38;5;124m'\u001b[39m\u001b[38;5;124my\u001b[39m\u001b[38;5;124m'\u001b[39m, y)\n\u001b[0;32m----> 6\u001b[0m \u001b[43my\u001b[49m\u001b[43m[\u001b[49m\u001b[38;5;241;43m0\u001b[39;49m\u001b[43m]\u001b[49m\u001b[43m[\u001b[49m\u001b[38;5;241;43m0\u001b[39;49m\u001b[43m]\u001b[49m \u001b[38;5;241m=\u001b[39m \u001b[38;5;241m0\u001b[39m\n\u001b[1;32m      7\u001b[0m \u001b[38;5;28mprint\u001b[39m(\u001b[38;5;124m'\u001b[39m\u001b[38;5;124my\u001b[39m\u001b[38;5;124m'\u001b[39m, y)\n\u001b[1;32m      8\u001b[0m \u001b[38;5;28mprint\u001b[39m(\u001b[38;5;124m'\u001b[39m\u001b[38;5;124mx\u001b[39m\u001b[38;5;124m'\u001b[39m, x)\n",
      "\u001b[0;31mIndexError\u001b[0m: invalid index of a 0-dim tensor. Use `tensor.item()` in Python or `tensor.item<T>()` in C++ to convert a 0-dim tensor to a number"
     ]
    }
   ],
   "source": [
    "x = torch.rand(size=(2, 3, 4))\n",
    "print('x', x)\n",
    "B, T, C = x.shape\n",
    "y = x.view(-1)\n",
    "print('y', y)\n",
    "y[0][0] = 0\n",
    "print('y', y)\n",
    "print('x', x)"
   ]
  },
  {
   "cell_type": "code",
   "execution_count": 39,
   "metadata": {},
   "outputs": [
    {
     "name": "stdout",
     "output_type": "stream",
     "text": [
      "x tensor([[-0.2249,  1.7493],\n",
      "        [-0.3261, -1.2838]])\n",
      "y tensor([[-1.7779, -0.7404, -0.8355],\n",
      "        [-0.5031, -0.8100,  0.3091]])\n"
     ]
    },
    {
     "ename": "RuntimeError",
     "evalue": "Sizes of tensors must match except in dimension 0. Expected size 2 but got size 3 for tensor number 1 in the list.",
     "output_type": "error",
     "traceback": [
      "\u001b[0;31m---------------------------------------------------------------------------\u001b[0m",
      "\u001b[0;31mRuntimeError\u001b[0m                              Traceback (most recent call last)",
      "Cell \u001b[0;32mIn[39], line 6\u001b[0m\n\u001b[1;32m      4\u001b[0m \u001b[38;5;28mprint\u001b[39m(\u001b[38;5;124m'\u001b[39m\u001b[38;5;124mx\u001b[39m\u001b[38;5;124m'\u001b[39m, x)\n\u001b[1;32m      5\u001b[0m \u001b[38;5;28mprint\u001b[39m(\u001b[38;5;124m'\u001b[39m\u001b[38;5;124my\u001b[39m\u001b[38;5;124m'\u001b[39m, y)\n\u001b[0;32m----> 6\u001b[0m z \u001b[38;5;241m=\u001b[39m \u001b[43mtorch\u001b[49m\u001b[38;5;241;43m.\u001b[39;49m\u001b[43mcat\u001b[49m\u001b[43m(\u001b[49m\u001b[43m(\u001b[49m\u001b[43mx\u001b[49m\u001b[43m,\u001b[49m\u001b[43my\u001b[49m\u001b[43m)\u001b[49m\u001b[43m,\u001b[49m\u001b[43m \u001b[49m\u001b[43mdim\u001b[49m\u001b[38;5;241;43m=\u001b[39;49m\u001b[38;5;241;43m0\u001b[39;49m\u001b[43m)\u001b[49m\n\u001b[1;32m      7\u001b[0m \u001b[38;5;28mprint\u001b[39m(\u001b[38;5;124m'\u001b[39m\u001b[38;5;124mz\u001b[39m\u001b[38;5;124m'\u001b[39m, z)\n",
      "\u001b[0;31mRuntimeError\u001b[0m: Sizes of tensors must match except in dimension 0. Expected size 2 but got size 3 for tensor number 1 in the list."
     ]
    }
   ],
   "source": [
    "# concatenating tensors\n",
    "x = torch.randn(size=(2,2))\n",
    "y = torch.randn(size=(2,3))\n",
    "print('x', x)\n",
    "print('y', y)\n",
    "z = torch.cat((x,y), dim=0)\n",
    "print('z', z)"
   ]
  },
  {
   "cell_type": "code",
   "execution_count": null,
   "metadata": {},
   "outputs": [],
   "source": []
  },
  {
   "cell_type": "code",
   "execution_count": null,
   "metadata": {},
   "outputs": [],
   "source": []
  }
 ],
 "metadata": {
  "kernelspec": {
   "display_name": "ml",
   "language": "python",
   "name": "python3"
  },
  "language_info": {
   "codemirror_mode": {
    "name": "ipython",
    "version": 3
   },
   "file_extension": ".py",
   "mimetype": "text/x-python",
   "name": "python",
   "nbconvert_exporter": "python",
   "pygments_lexer": "ipython3",
   "version": "3.11.9"
  }
 },
 "nbformat": 4,
 "nbformat_minor": 2
}
