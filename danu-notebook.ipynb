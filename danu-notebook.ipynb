{
 "cells": [
  {
   "cell_type": "code",
   "execution_count": 93,
   "metadata": {},
   "outputs": [],
   "source": [
    "import torch\n",
    "import torch.nn as nn \n",
    "from torch.nn import functional as F\n",
    "import numpy as np"
   ]
  },
  {
   "cell_type": "code",
   "execution_count": 31,
   "metadata": {},
   "outputs": [
    {
     "name": "stdout",
     "output_type": "stream",
     "text": [
      "\n",
      " !$&',-.3:;?ABCDEFGHIJKLMNOPQRSTUVWXYZabcdefghijklmnopqrstuvwxyz\n"
     ]
    },
    {
     "data": {
      "text/plain": [
       "65"
      ]
     },
     "execution_count": 31,
     "metadata": {},
     "output_type": "execute_result"
    }
   ],
   "source": [
    "data = open(\"data/shakespeare_char/input.txt\").read()\n",
    "vocab = sorted(list(set(data)))\n",
    "print(''.join(vocab))\n",
    "len(vocab)"
   ]
  },
  {
   "cell_type": "code",
   "execution_count": 24,
   "metadata": {},
   "outputs": [
    {
     "name": "stdout",
     "output_type": "stream",
     "text": [
      "50257\n",
      "['Dan', 'ush', 'ka', ' Bol', 'leg', 'ala']\n"
     ]
    }
   ],
   "source": [
    "import tiktoken\n",
    "#enc = tiktoken.encoding_for_model('gpt-4o')\n",
    "enc = tiktoken.get_encoding('gpt2')\n",
    "print(enc.n_vocab)\n",
    "codes = enc.encode(\"Danushka Bollegala\")\n",
    "dec = [enc.decode([cd]) for cd in codes]\n",
    "print(dec)"
   ]
  },
  {
   "cell_type": "code",
   "execution_count": 89,
   "metadata": {},
   "outputs": [
    {
     "name": "stdout",
     "output_type": "stream",
     "text": [
      "[16, 39, 52, 59, 57, 46, 49, 39, 1, 14, 53, 50, 50, 43, 45, 39, 50, 39]\n",
      "Danushka Bollegala\n"
     ]
    }
   ],
   "source": [
    "stoi = {ch:i for (i, ch) in enumerate(vocab)}\n",
    "itoch = {i:ch for (i, ch) in enumerate(vocab)}\n",
    "encode = lambda s: [stoi[ch] for ch in s] \n",
    "decode = lambda l: ''.join([itoch[i] for i in l])\n",
    "vocab_size = len(vocab)\n",
    "print(encode(\"Danushka Bollegala\"))\n",
    "print(decode(encode(\"Danushka Bollegala\")))"
   ]
  },
  {
   "cell_type": "code",
   "execution_count": 90,
   "metadata": {},
   "outputs": [],
   "source": [
    "n = int(0.9 * len(data))\n",
    "train_data = torch.tensor(encode(data[:n]))\n",
    "val_data = torch.tensor(encode(data[n:]))\n",
    "block_size = 8"
   ]
  },
  {
   "cell_type": "code",
   "execution_count": 91,
   "metadata": {},
   "outputs": [
    {
     "name": "stdout",
     "output_type": "stream",
     "text": [
      "inputs\n",
      "torch.Size([4, 8])\n",
      "tensor([[24, 43, 58,  5, 57,  1, 46, 43],\n",
      "        [44, 53, 56,  1, 58, 46, 39, 58],\n",
      "        [52, 58,  1, 58, 46, 39, 58,  1],\n",
      "        [25, 17, 27, 10,  0, 21,  1, 54]])\n",
      "targets\n",
      "torch.Size([4, 8])\n",
      "tensor([[43, 58,  5, 57,  1, 46, 43, 39],\n",
      "        [53, 56,  1, 58, 46, 39, 58,  1],\n",
      "        [58,  1, 58, 46, 39, 58,  1, 46],\n",
      "        [17, 27, 10,  0, 21,  1, 54, 39]])\n",
      "----\n",
      "Context = [24], Target = 43\n",
      "Context = [24, 43], Target = 58\n",
      "Context = [24, 43, 58], Target = 5\n",
      "Context = [24, 43, 58, 5], Target = 57\n",
      "Context = [24, 43, 58, 5, 57], Target = 1\n",
      "Context = [24, 43, 58, 5, 57, 1], Target = 46\n",
      "Context = [24, 43, 58, 5, 57, 1, 46], Target = 43\n",
      "Context = [24, 43, 58, 5, 57, 1, 46, 43], Target = 39\n",
      "Context = [44], Target = 53\n",
      "Context = [44, 53], Target = 56\n",
      "Context = [44, 53, 56], Target = 1\n",
      "Context = [44, 53, 56, 1], Target = 58\n",
      "Context = [44, 53, 56, 1, 58], Target = 46\n",
      "Context = [44, 53, 56, 1, 58, 46], Target = 39\n",
      "Context = [44, 53, 56, 1, 58, 46, 39], Target = 58\n",
      "Context = [44, 53, 56, 1, 58, 46, 39, 58], Target = 1\n",
      "Context = [52], Target = 58\n",
      "Context = [52, 58], Target = 1\n",
      "Context = [52, 58, 1], Target = 58\n",
      "Context = [52, 58, 1, 58], Target = 46\n",
      "Context = [52, 58, 1, 58, 46], Target = 39\n",
      "Context = [52, 58, 1, 58, 46, 39], Target = 58\n",
      "Context = [52, 58, 1, 58, 46, 39, 58], Target = 1\n",
      "Context = [52, 58, 1, 58, 46, 39, 58, 1], Target = 46\n",
      "Context = [25], Target = 17\n",
      "Context = [25, 17], Target = 27\n",
      "Context = [25, 17, 27], Target = 10\n",
      "Context = [25, 17, 27, 10], Target = 0\n",
      "Context = [25, 17, 27, 10, 0], Target = 21\n",
      "Context = [25, 17, 27, 10, 0, 21], Target = 1\n",
      "Context = [25, 17, 27, 10, 0, 21, 1], Target = 54\n",
      "Context = [25, 17, 27, 10, 0, 21, 1, 54], Target = 39\n"
     ]
    }
   ],
   "source": [
    "torch.manual_seed(1337) # generates the same random sequence\n",
    "batch_size = 4\n",
    "\n",
    "def get_batch(split):\n",
    "    data = train_data if split == 'train' else val_data\n",
    "    ix = torch.randint(len(data) - block_size, (batch_size, ))\n",
    "    x = torch.stack([data[i:i+block_size] for i in ix])\n",
    "    y = torch.stack([data[i+1:i+block_size+1] for i in ix])\n",
    "    return x, y\n",
    "\n",
    "xb, yb = get_batch('train')\n",
    "print('inputs')\n",
    "print(xb.shape)\n",
    "print(xb)\n",
    "\n",
    "print('targets')\n",
    "print(yb.shape)\n",
    "print(yb)\n",
    "\n",
    "print('----')\n",
    "\n",
    "for b in range(batch_size): # batch dimension\n",
    "    for t in range(block_size): # time dimension\n",
    "        context = xb[b, :t+1] # in the b-th batch, we take from the start to length t\n",
    "        target = yb[b, t] # t-th token in the b-th batch\n",
    "        print(f\"Context = {context.tolist()}, Target = {target}\")\n"
   ]
  },
  {
   "cell_type": "code",
   "execution_count": 102,
   "metadata": {},
   "outputs": [
    {
     "ename": "RuntimeError",
     "evalue": "a Tensor with 2 elements cannot be converted to Scalar",
     "output_type": "error",
     "traceback": [
      "\u001b[0;31m---------------------------------------------------------------------------\u001b[0m",
      "\u001b[0;31mRuntimeError\u001b[0m                              Traceback (most recent call last)",
      "Cell \u001b[0;32mIn[102], line 2\u001b[0m\n\u001b[1;32m      1\u001b[0m z \u001b[38;5;241m=\u001b[39m torch\u001b[38;5;241m.\u001b[39mtensor([\u001b[38;5;241m2.4\u001b[39m, \u001b[38;5;241m3.2\u001b[39m])\n\u001b[0;32m----> 2\u001b[0m \u001b[43mz\u001b[49m\u001b[38;5;241;43m.\u001b[39;49m\u001b[43mitem\u001b[49m\u001b[43m(\u001b[49m\u001b[43m)\u001b[49m\n",
      "\u001b[0;31mRuntimeError\u001b[0m: a Tensor with 2 elements cannot be converted to Scalar"
     ]
    }
   ],
   "source": [
    "z = torch.tensor([2.4, 3.2])\n",
    "z.item()"
   ]
  },
  {
   "cell_type": "code",
   "execution_count": 99,
   "metadata": {},
   "outputs": [
    {
     "name": "stdout",
     "output_type": "stream",
     "text": [
      "torch.Size([32, 65])\n",
      "4.823129177093506\n"
     ]
    }
   ],
   "source": [
    "class BigramLanguageModel(nn.Module):\n",
    "    \n",
    "    def __init__(self, vocab_size):\n",
    "        super().__init__()\n",
    "        # nn.Embedding provides one hot encoding. But here we use it as a probability table (current_word --> next_word) for the bigram LM.\n",
    "        self.token_embedding_table = nn.Embedding(vocab_size, vocab_size)\n",
    "        \n",
    "    def forward(self, idx, targets):\n",
    "        logits = self.token_embedding_table(idx) # logis for the next word predictions. (B, T, C)\n",
    "        B, T, C = logits.shape\n",
    "        logits = logits.view(B*T, C)\n",
    "        targets = targets.view(B*T)\n",
    "        loss = F.cross_entropy(logits, targets)\n",
    "        return logits, loss\n",
    "    \n",
    "model = BigramLanguageModel(vocab_size)\n",
    "logits, loss = model(xb, yb)    \n",
    "print(logits.shape) \n",
    "print(loss.item())"
   ]
  }
 ],
 "metadata": {
  "kernelspec": {
   "display_name": "torch-gpu",
   "language": "python",
   "name": "python3"
  },
  "language_info": {
   "codemirror_mode": {
    "name": "ipython",
    "version": 3
   },
   "file_extension": ".py",
   "mimetype": "text/x-python",
   "name": "python",
   "nbconvert_exporter": "python",
   "pygments_lexer": "ipython3",
   "version": "3.8.16"
  }
 },
 "nbformat": 4,
 "nbformat_minor": 2
}
